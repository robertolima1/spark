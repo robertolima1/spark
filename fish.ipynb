{
 "cells": [
  {
   "cell_type": "code",
   "execution_count": 0,
   "metadata": {
    "application/vnd.databricks.v1+cell": {
     "cellMetadata": {
      "byteLimit": 2048000,
      "rowLimit": 10000
     },
     "inputWidgets": {},
     "nuid": "c7dae574-59ec-41e8-ac67-315fd151c3db",
     "showTitle": false,
     "title": ""
    }
   },
   "outputs": [
    {
     "output_type": "stream",
     "name": "stdout",
     "output_type": "stream",
     "text": [
      "Python interpreter will be restarted.\nCollecting thunder-python\n  Downloading thunder-python-1.4.2.tar.gz (44 kB)\nRequirement already satisfied: numpy in /databricks/python3/lib/python3.9/site-packages (from thunder-python) (1.21.5)\nRequirement already satisfied: scipy in /databricks/python3/lib/python3.9/site-packages (from thunder-python) (1.7.3)\nRequirement already satisfied: six in /databricks/python3/lib/python3.9/site-packages (from thunder-python) (1.16.0)\nRequirement already satisfied: pillow>=2.1.0 in /databricks/python3/lib/python3.9/site-packages (from thunder-python) (9.0.1)\nCollecting boto>=2.36.0\n  Downloading boto-2.49.0-py2.py3-none-any.whl (1.4 MB)\nCollecting bolt-python>=0.7.0\n  Downloading bolt-python-0.7.1.tar.gz (25 kB)\nCollecting tifffile>=0.9.2\n  Downloading tifffile-2024.8.30-py3-none-any.whl (227 kB)\nBuilding wheels for collected packages: thunder-python, bolt-python\n  Building wheel for thunder-python (setup.py): started\n  Building wheel for thunder-python (setup.py): finished with status 'done'\n  Created wheel for thunder-python: filename=thunder_python-1.4.2-py3-none-any.whl size=43290 sha256=4ae1508c05eedb86abd8cccda8cc986b219a326f5cb6053dd0671282b165aca1\n  Stored in directory: /root/.cache/pip/wheels/2a/1d/be/09ebadbc2f4d32932614d81c076239ef1974a311e03f018cdf\n  Building wheel for bolt-python (setup.py): started\n  Building wheel for bolt-python (setup.py): finished with status 'done'\n  Created wheel for bolt-python: filename=bolt_python-0.7.1-py3-none-any.whl size=31180 sha256=2d0b950dd6ce75dd19a47a87a0d2b49e5b662c7ff03b6a97b83840dfa1a4c57c\n  Stored in directory: /root/.cache/pip/wheels/73/4f/ea/b613f2e93096c03fad1d93caba8bfa42aa81df0f85329cb0b6\nSuccessfully built thunder-python bolt-python\nInstalling collected packages: tifffile, boto, bolt-python, thunder-python\nSuccessfully installed bolt-python-0.7.1 boto-2.49.0 thunder-python-1.4.2 tifffile-2024.8.30\nPython interpreter will be restarted.\n"
     ]
    }
   ],
   "source": [
    "%pip install  thunder-python\n",
    "\n"
   ]
  },
  {
   "cell_type": "code",
   "execution_count": 0,
   "metadata": {
    "application/vnd.databricks.v1+cell": {
     "cellMetadata": {
      "byteLimit": 2048000,
      "rowLimit": 10000
     },
     "inputWidgets": {},
     "nuid": "3d25ceed-9a18-4cce-b51a-d26bdd7722d0",
     "showTitle": false,
     "title": ""
    }
   },
   "outputs": [
    {
     "output_type": "display_data",
     "data": {
      "text/plain": [
       "\u001B[0;31m---------------------------------------------------------------------------\u001B[0m\n",
       "\u001B[0;31mFileNotFoundError\u001B[0m                         Traceback (most recent call last)\n",
       "File \u001B[0;32m<command-1092222183704395>:20\u001B[0m\n",
       "\u001B[1;32m     13\u001B[0m \u001B[38;5;28;01mimport\u001B[39;00m \u001B[38;5;21;01mthunder\u001B[39;00m \u001B[38;5;28;01mas\u001B[39;00m \u001B[38;5;21;01mtd\u001B[39;00m\n",
       "\u001B[1;32m     15\u001B[0m \u001B[38;5;66;03m##################\u001B[39;00m\n",
       "\u001B[1;32m     16\u001B[0m \u001B[38;5;66;03m# data exploration/Trabalho de Computação Paralela/fish_dataset/tif-stack/time001.tif\u001B[39;00m\n",
       "\u001B[1;32m     17\u001B[0m \u001B[38;5;66;03m##################\u001B[39;00m\n",
       "\u001B[1;32m     18\u001B[0m \n",
       "\u001B[1;32m     19\u001B[0m \u001B[38;5;66;03m# load some zebrafish brain data\u001B[39;00m\n",
       "\u001B[0;32m---> 20\u001B[0m data \u001B[38;5;241m=\u001B[39m td\u001B[38;5;241m.\u001B[39mimages\u001B[38;5;241m.\u001B[39mfromtif(\u001B[38;5;124m'\u001B[39m\u001B[38;5;124m./fish_dataset/time001.tif/\u001B[39m\u001B[38;5;124m'\u001B[39m, engine\u001B[38;5;241m=\u001B[39msc)\n",
       "\u001B[1;32m     22\u001B[0m \u001B[38;5;66;03m# explore the resulting object\u001B[39;00m\n",
       "\u001B[1;32m     23\u001B[0m \u001B[38;5;28mprint\u001B[39m(data)\n",
       "\n",
       "File \u001B[0;32m/local_disk0/.ephemeral_nfs/envs/pythonEnv-2991b55e-26e7-4e01-8829-8957396c1c2c/lib/python3.9/site-packages/thunder/images/readers.py:392\u001B[0m, in \u001B[0;36mfromtif\u001B[0;34m(path, ext, start, stop, recursive, nplanes, npartitions, labels, engine, credentials, discard_extra)\u001B[0m\n",
       "\u001B[1;32m    389\u001B[0m     \u001B[38;5;28;01mreturn\u001B[39;00m \u001B[38;5;28mzip\u001B[39m(keys, values)\n",
       "\u001B[1;32m    391\u001B[0m recount \u001B[38;5;241m=\u001B[39m \u001B[38;5;28;01mFalse\u001B[39;00m \u001B[38;5;28;01mif\u001B[39;00m nplanes \u001B[38;5;129;01mis\u001B[39;00m \u001B[38;5;28;01mNone\u001B[39;00m \u001B[38;5;28;01melse\u001B[39;00m \u001B[38;5;28;01mTrue\u001B[39;00m\n",
       "\u001B[0;32m--> 392\u001B[0m \u001B[38;5;28;01mreturn\u001B[39;00m \u001B[43mfrompath\u001B[49m\u001B[43m(\u001B[49m\u001B[43mpath\u001B[49m\u001B[43m,\u001B[49m\u001B[43m \u001B[49m\u001B[43maccessor\u001B[49m\u001B[38;5;241;43m=\u001B[39;49m\u001B[43mgetarray\u001B[49m\u001B[43m,\u001B[49m\u001B[43m \u001B[49m\u001B[43mext\u001B[49m\u001B[38;5;241;43m=\u001B[39;49m\u001B[43mext\u001B[49m\u001B[43m,\u001B[49m\u001B[43m \u001B[49m\u001B[43mstart\u001B[49m\u001B[38;5;241;43m=\u001B[39;49m\u001B[43mstart\u001B[49m\u001B[43m,\u001B[49m\u001B[43m \u001B[49m\u001B[43mstop\u001B[49m\u001B[38;5;241;43m=\u001B[39;49m\u001B[43mstop\u001B[49m\u001B[43m,\u001B[49m\n",
       "\u001B[1;32m    393\u001B[0m \u001B[43m                \u001B[49m\u001B[43mrecursive\u001B[49m\u001B[38;5;241;43m=\u001B[39;49m\u001B[43mrecursive\u001B[49m\u001B[43m,\u001B[49m\u001B[43m \u001B[49m\u001B[43mnpartitions\u001B[49m\u001B[38;5;241;43m=\u001B[39;49m\u001B[43mnpartitions\u001B[49m\u001B[43m,\u001B[49m\u001B[43m \u001B[49m\u001B[43mrecount\u001B[49m\u001B[38;5;241;43m=\u001B[39;49m\u001B[43mrecount\u001B[49m\u001B[43m,\u001B[49m\n",
       "\u001B[1;32m    394\u001B[0m \u001B[43m                \u001B[49m\u001B[43mlabels\u001B[49m\u001B[38;5;241;43m=\u001B[39;49m\u001B[43mlabels\u001B[49m\u001B[43m,\u001B[49m\u001B[43m \u001B[49m\u001B[43mengine\u001B[49m\u001B[38;5;241;43m=\u001B[39;49m\u001B[43mengine\u001B[49m\u001B[43m,\u001B[49m\u001B[43m \u001B[49m\u001B[43mcredentials\u001B[49m\u001B[38;5;241;43m=\u001B[39;49m\u001B[43mcredentials\u001B[49m\u001B[43m)\u001B[49m\n",
       "\n",
       "File \u001B[0;32m/local_disk0/.ephemeral_nfs/envs/pythonEnv-2991b55e-26e7-4e01-8829-8957396c1c2c/lib/python3.9/site-packages/thunder/images/readers.py:198\u001B[0m, in \u001B[0;36mfrompath\u001B[0;34m(path, accessor, ext, start, stop, recursive, npartitions, dims, dtype, labels, recount, engine, credentials)\u001B[0m\n",
       "\u001B[1;32m    196\u001B[0m \u001B[38;5;28;01mfrom\u001B[39;00m \u001B[38;5;21;01mthunder\u001B[39;00m\u001B[38;5;21;01m.\u001B[39;00m\u001B[38;5;21;01mreaders\u001B[39;00m \u001B[38;5;28;01mimport\u001B[39;00m get_parallel_reader\n",
       "\u001B[1;32m    197\u001B[0m reader \u001B[38;5;241m=\u001B[39m get_parallel_reader(path)(engine, credentials\u001B[38;5;241m=\u001B[39mcredentials)\n",
       "\u001B[0;32m--> 198\u001B[0m data \u001B[38;5;241m=\u001B[39m \u001B[43mreader\u001B[49m\u001B[38;5;241;43m.\u001B[39;49m\u001B[43mread\u001B[49m\u001B[43m(\u001B[49m\u001B[43mpath\u001B[49m\u001B[43m,\u001B[49m\u001B[43m \u001B[49m\u001B[43mext\u001B[49m\u001B[38;5;241;43m=\u001B[39;49m\u001B[43mext\u001B[49m\u001B[43m,\u001B[49m\u001B[43m \u001B[49m\u001B[43mstart\u001B[49m\u001B[38;5;241;43m=\u001B[39;49m\u001B[43mstart\u001B[49m\u001B[43m,\u001B[49m\u001B[43m \u001B[49m\u001B[43mstop\u001B[49m\u001B[38;5;241;43m=\u001B[39;49m\u001B[43mstop\u001B[49m\u001B[43m,\u001B[49m\n",
       "\u001B[1;32m    199\u001B[0m \u001B[43m                   \u001B[49m\u001B[43mrecursive\u001B[49m\u001B[38;5;241;43m=\u001B[39;49m\u001B[43mrecursive\u001B[49m\u001B[43m,\u001B[49m\u001B[43m \u001B[49m\u001B[43mnpartitions\u001B[49m\u001B[38;5;241;43m=\u001B[39;49m\u001B[43mnpartitions\u001B[49m\u001B[43m)\u001B[49m\n",
       "\u001B[1;32m    201\u001B[0m \u001B[38;5;28;01mif\u001B[39;00m spark \u001B[38;5;129;01mand\u001B[39;00m \u001B[38;5;28misinstance\u001B[39m(engine, spark):\n",
       "\u001B[1;32m    202\u001B[0m     \u001B[38;5;28;01mif\u001B[39;00m accessor:\n",
       "\n",
       "File \u001B[0;32m/local_disk0/.ephemeral_nfs/envs/pythonEnv-2991b55e-26e7-4e01-8829-8957396c1c2c/lib/python3.9/site-packages/thunder/readers.py:144\u001B[0m, in \u001B[0;36mLocalParallelReader.read\u001B[0;34m(self, path, ext, start, stop, recursive, npartitions)\u001B[0m\n",
       "\u001B[1;32m    138\u001B[0m \u001B[38;5;124;03m\"\"\"\u001B[39;00m\n",
       "\u001B[1;32m    139\u001B[0m \u001B[38;5;124;03mSets up Spark RDD across files specified by dataPath on local filesystem.\u001B[39;00m\n",
       "\u001B[1;32m    140\u001B[0m \n",
       "\u001B[1;32m    141\u001B[0m \u001B[38;5;124;03mReturns RDD of <integer file index, string buffer> k/v pairs.\u001B[39;00m\n",
       "\u001B[1;32m    142\u001B[0m \u001B[38;5;124;03m\"\"\"\u001B[39;00m\n",
       "\u001B[1;32m    143\u001B[0m path \u001B[38;5;241m=\u001B[39m uri_to_path(path)\n",
       "\u001B[0;32m--> 144\u001B[0m files \u001B[38;5;241m=\u001B[39m \u001B[38;5;28;43mself\u001B[39;49m\u001B[38;5;241;43m.\u001B[39;49m\u001B[43mlist\u001B[49m\u001B[43m(\u001B[49m\u001B[43mpath\u001B[49m\u001B[43m,\u001B[49m\u001B[43m \u001B[49m\u001B[43mext\u001B[49m\u001B[38;5;241;43m=\u001B[39;49m\u001B[43mext\u001B[49m\u001B[43m,\u001B[49m\u001B[43m \u001B[49m\u001B[43mstart\u001B[49m\u001B[38;5;241;43m=\u001B[39;49m\u001B[43mstart\u001B[49m\u001B[43m,\u001B[49m\u001B[43m \u001B[49m\u001B[43mstop\u001B[49m\u001B[38;5;241;43m=\u001B[39;49m\u001B[43mstop\u001B[49m\u001B[43m,\u001B[49m\u001B[43m \u001B[49m\u001B[43mrecursive\u001B[49m\u001B[38;5;241;43m=\u001B[39;49m\u001B[43mrecursive\u001B[49m\u001B[43m)\u001B[49m\n",
       "\u001B[1;32m    146\u001B[0m nfiles \u001B[38;5;241m=\u001B[39m \u001B[38;5;28mlen\u001B[39m(files)\n",
       "\u001B[1;32m    147\u001B[0m \u001B[38;5;28mself\u001B[39m\u001B[38;5;241m.\u001B[39mnfiles \u001B[38;5;241m=\u001B[39m nfiles\n",
       "\n",
       "File \u001B[0;32m/local_disk0/.ephemeral_nfs/envs/pythonEnv-2991b55e-26e7-4e01-8829-8957396c1c2c/lib/python3.9/site-packages/thunder/readers.py:131\u001B[0m, in \u001B[0;36mLocalParallelReader.list\u001B[0;34m(path, ext, start, stop, recursive)\u001B[0m\n",
       "\u001B[1;32m    129\u001B[0m files \u001B[38;5;241m=\u001B[39m listflat(path, ext) \u001B[38;5;28;01mif\u001B[39;00m \u001B[38;5;129;01mnot\u001B[39;00m recursive \u001B[38;5;28;01melse\u001B[39;00m listrecursive(path, ext)\n",
       "\u001B[1;32m    130\u001B[0m \u001B[38;5;28;01mif\u001B[39;00m \u001B[38;5;28mlen\u001B[39m(files) \u001B[38;5;241m<\u001B[39m \u001B[38;5;241m1\u001B[39m:\n",
       "\u001B[0;32m--> 131\u001B[0m     \u001B[38;5;28;01mraise\u001B[39;00m \u001B[38;5;167;01mFileNotFoundError\u001B[39;00m(\u001B[38;5;124m'\u001B[39m\u001B[38;5;124mCannot find files of type \u001B[39m\u001B[38;5;124m\"\u001B[39m\u001B[38;5;132;01m%s\u001B[39;00m\u001B[38;5;124m\"\u001B[39m\u001B[38;5;124m in \u001B[39m\u001B[38;5;132;01m%s\u001B[39;00m\u001B[38;5;124m'\u001B[39m\n",
       "\u001B[1;32m    132\u001B[0m                             \u001B[38;5;241m%\u001B[39m (ext \u001B[38;5;28;01mif\u001B[39;00m ext \u001B[38;5;28;01melse\u001B[39;00m \u001B[38;5;124m'\u001B[39m\u001B[38;5;124m*\u001B[39m\u001B[38;5;124m'\u001B[39m, path))\n",
       "\u001B[1;32m    133\u001B[0m files \u001B[38;5;241m=\u001B[39m select(files, start, stop)\n",
       "\u001B[1;32m    135\u001B[0m \u001B[38;5;28;01mreturn\u001B[39;00m files\n",
       "\n",
       "\u001B[0;31mFileNotFoundError\u001B[0m: Cannot find files of type \"tif\" in ./fish_dataset/time001.tif/"
      ]
     },
     "metadata": {
      "application/vnd.databricks.v1+output": {
       "arguments": {},
       "data": "\u001B[0;31m---------------------------------------------------------------------------\u001B[0m\n\u001B[0;31mFileNotFoundError\u001B[0m                         Traceback (most recent call last)\nFile \u001B[0;32m<command-1092222183704395>:20\u001B[0m\n\u001B[1;32m     13\u001B[0m \u001B[38;5;28;01mimport\u001B[39;00m \u001B[38;5;21;01mthunder\u001B[39;00m \u001B[38;5;28;01mas\u001B[39;00m \u001B[38;5;21;01mtd\u001B[39;00m\n\u001B[1;32m     15\u001B[0m \u001B[38;5;66;03m##################\u001B[39;00m\n\u001B[1;32m     16\u001B[0m \u001B[38;5;66;03m# data exploration/Trabalho de Computação Paralela/fish_dataset/tif-stack/time001.tif\u001B[39;00m\n\u001B[1;32m     17\u001B[0m \u001B[38;5;66;03m##################\u001B[39;00m\n\u001B[1;32m     18\u001B[0m \n\u001B[1;32m     19\u001B[0m \u001B[38;5;66;03m# load some zebrafish brain data\u001B[39;00m\n\u001B[0;32m---> 20\u001B[0m data \u001B[38;5;241m=\u001B[39m td\u001B[38;5;241m.\u001B[39mimages\u001B[38;5;241m.\u001B[39mfromtif(\u001B[38;5;124m'\u001B[39m\u001B[38;5;124m./fish_dataset/time001.tif/\u001B[39m\u001B[38;5;124m'\u001B[39m, engine\u001B[38;5;241m=\u001B[39msc)\n\u001B[1;32m     22\u001B[0m \u001B[38;5;66;03m# explore the resulting object\u001B[39;00m\n\u001B[1;32m     23\u001B[0m \u001B[38;5;28mprint\u001B[39m(data)\n\nFile \u001B[0;32m/local_disk0/.ephemeral_nfs/envs/pythonEnv-2991b55e-26e7-4e01-8829-8957396c1c2c/lib/python3.9/site-packages/thunder/images/readers.py:392\u001B[0m, in \u001B[0;36mfromtif\u001B[0;34m(path, ext, start, stop, recursive, nplanes, npartitions, labels, engine, credentials, discard_extra)\u001B[0m\n\u001B[1;32m    389\u001B[0m     \u001B[38;5;28;01mreturn\u001B[39;00m \u001B[38;5;28mzip\u001B[39m(keys, values)\n\u001B[1;32m    391\u001B[0m recount \u001B[38;5;241m=\u001B[39m \u001B[38;5;28;01mFalse\u001B[39;00m \u001B[38;5;28;01mif\u001B[39;00m nplanes \u001B[38;5;129;01mis\u001B[39;00m \u001B[38;5;28;01mNone\u001B[39;00m \u001B[38;5;28;01melse\u001B[39;00m \u001B[38;5;28;01mTrue\u001B[39;00m\n\u001B[0;32m--> 392\u001B[0m \u001B[38;5;28;01mreturn\u001B[39;00m \u001B[43mfrompath\u001B[49m\u001B[43m(\u001B[49m\u001B[43mpath\u001B[49m\u001B[43m,\u001B[49m\u001B[43m \u001B[49m\u001B[43maccessor\u001B[49m\u001B[38;5;241;43m=\u001B[39;49m\u001B[43mgetarray\u001B[49m\u001B[43m,\u001B[49m\u001B[43m \u001B[49m\u001B[43mext\u001B[49m\u001B[38;5;241;43m=\u001B[39;49m\u001B[43mext\u001B[49m\u001B[43m,\u001B[49m\u001B[43m \u001B[49m\u001B[43mstart\u001B[49m\u001B[38;5;241;43m=\u001B[39;49m\u001B[43mstart\u001B[49m\u001B[43m,\u001B[49m\u001B[43m \u001B[49m\u001B[43mstop\u001B[49m\u001B[38;5;241;43m=\u001B[39;49m\u001B[43mstop\u001B[49m\u001B[43m,\u001B[49m\n\u001B[1;32m    393\u001B[0m \u001B[43m                \u001B[49m\u001B[43mrecursive\u001B[49m\u001B[38;5;241;43m=\u001B[39;49m\u001B[43mrecursive\u001B[49m\u001B[43m,\u001B[49m\u001B[43m \u001B[49m\u001B[43mnpartitions\u001B[49m\u001B[38;5;241;43m=\u001B[39;49m\u001B[43mnpartitions\u001B[49m\u001B[43m,\u001B[49m\u001B[43m \u001B[49m\u001B[43mrecount\u001B[49m\u001B[38;5;241;43m=\u001B[39;49m\u001B[43mrecount\u001B[49m\u001B[43m,\u001B[49m\n\u001B[1;32m    394\u001B[0m \u001B[43m                \u001B[49m\u001B[43mlabels\u001B[49m\u001B[38;5;241;43m=\u001B[39;49m\u001B[43mlabels\u001B[49m\u001B[43m,\u001B[49m\u001B[43m \u001B[49m\u001B[43mengine\u001B[49m\u001B[38;5;241;43m=\u001B[39;49m\u001B[43mengine\u001B[49m\u001B[43m,\u001B[49m\u001B[43m \u001B[49m\u001B[43mcredentials\u001B[49m\u001B[38;5;241;43m=\u001B[39;49m\u001B[43mcredentials\u001B[49m\u001B[43m)\u001B[49m\n\nFile \u001B[0;32m/local_disk0/.ephemeral_nfs/envs/pythonEnv-2991b55e-26e7-4e01-8829-8957396c1c2c/lib/python3.9/site-packages/thunder/images/readers.py:198\u001B[0m, in \u001B[0;36mfrompath\u001B[0;34m(path, accessor, ext, start, stop, recursive, npartitions, dims, dtype, labels, recount, engine, credentials)\u001B[0m\n\u001B[1;32m    196\u001B[0m \u001B[38;5;28;01mfrom\u001B[39;00m \u001B[38;5;21;01mthunder\u001B[39;00m\u001B[38;5;21;01m.\u001B[39;00m\u001B[38;5;21;01mreaders\u001B[39;00m \u001B[38;5;28;01mimport\u001B[39;00m get_parallel_reader\n\u001B[1;32m    197\u001B[0m reader \u001B[38;5;241m=\u001B[39m get_parallel_reader(path)(engine, credentials\u001B[38;5;241m=\u001B[39mcredentials)\n\u001B[0;32m--> 198\u001B[0m data \u001B[38;5;241m=\u001B[39m \u001B[43mreader\u001B[49m\u001B[38;5;241;43m.\u001B[39;49m\u001B[43mread\u001B[49m\u001B[43m(\u001B[49m\u001B[43mpath\u001B[49m\u001B[43m,\u001B[49m\u001B[43m \u001B[49m\u001B[43mext\u001B[49m\u001B[38;5;241;43m=\u001B[39;49m\u001B[43mext\u001B[49m\u001B[43m,\u001B[49m\u001B[43m \u001B[49m\u001B[43mstart\u001B[49m\u001B[38;5;241;43m=\u001B[39;49m\u001B[43mstart\u001B[49m\u001B[43m,\u001B[49m\u001B[43m \u001B[49m\u001B[43mstop\u001B[49m\u001B[38;5;241;43m=\u001B[39;49m\u001B[43mstop\u001B[49m\u001B[43m,\u001B[49m\n\u001B[1;32m    199\u001B[0m \u001B[43m                   \u001B[49m\u001B[43mrecursive\u001B[49m\u001B[38;5;241;43m=\u001B[39;49m\u001B[43mrecursive\u001B[49m\u001B[43m,\u001B[49m\u001B[43m \u001B[49m\u001B[43mnpartitions\u001B[49m\u001B[38;5;241;43m=\u001B[39;49m\u001B[43mnpartitions\u001B[49m\u001B[43m)\u001B[49m\n\u001B[1;32m    201\u001B[0m \u001B[38;5;28;01mif\u001B[39;00m spark \u001B[38;5;129;01mand\u001B[39;00m \u001B[38;5;28misinstance\u001B[39m(engine, spark):\n\u001B[1;32m    202\u001B[0m     \u001B[38;5;28;01mif\u001B[39;00m accessor:\n\nFile \u001B[0;32m/local_disk0/.ephemeral_nfs/envs/pythonEnv-2991b55e-26e7-4e01-8829-8957396c1c2c/lib/python3.9/site-packages/thunder/readers.py:144\u001B[0m, in \u001B[0;36mLocalParallelReader.read\u001B[0;34m(self, path, ext, start, stop, recursive, npartitions)\u001B[0m\n\u001B[1;32m    138\u001B[0m \u001B[38;5;124;03m\"\"\"\u001B[39;00m\n\u001B[1;32m    139\u001B[0m \u001B[38;5;124;03mSets up Spark RDD across files specified by dataPath on local filesystem.\u001B[39;00m\n\u001B[1;32m    140\u001B[0m \n\u001B[1;32m    141\u001B[0m \u001B[38;5;124;03mReturns RDD of <integer file index, string buffer> k/v pairs.\u001B[39;00m\n\u001B[1;32m    142\u001B[0m \u001B[38;5;124;03m\"\"\"\u001B[39;00m\n\u001B[1;32m    143\u001B[0m path \u001B[38;5;241m=\u001B[39m uri_to_path(path)\n\u001B[0;32m--> 144\u001B[0m files \u001B[38;5;241m=\u001B[39m \u001B[38;5;28;43mself\u001B[39;49m\u001B[38;5;241;43m.\u001B[39;49m\u001B[43mlist\u001B[49m\u001B[43m(\u001B[49m\u001B[43mpath\u001B[49m\u001B[43m,\u001B[49m\u001B[43m \u001B[49m\u001B[43mext\u001B[49m\u001B[38;5;241;43m=\u001B[39;49m\u001B[43mext\u001B[49m\u001B[43m,\u001B[49m\u001B[43m \u001B[49m\u001B[43mstart\u001B[49m\u001B[38;5;241;43m=\u001B[39;49m\u001B[43mstart\u001B[49m\u001B[43m,\u001B[49m\u001B[43m \u001B[49m\u001B[43mstop\u001B[49m\u001B[38;5;241;43m=\u001B[39;49m\u001B[43mstop\u001B[49m\u001B[43m,\u001B[49m\u001B[43m \u001B[49m\u001B[43mrecursive\u001B[49m\u001B[38;5;241;43m=\u001B[39;49m\u001B[43mrecursive\u001B[49m\u001B[43m)\u001B[49m\n\u001B[1;32m    146\u001B[0m nfiles \u001B[38;5;241m=\u001B[39m \u001B[38;5;28mlen\u001B[39m(files)\n\u001B[1;32m    147\u001B[0m \u001B[38;5;28mself\u001B[39m\u001B[38;5;241m.\u001B[39mnfiles \u001B[38;5;241m=\u001B[39m nfiles\n\nFile \u001B[0;32m/local_disk0/.ephemeral_nfs/envs/pythonEnv-2991b55e-26e7-4e01-8829-8957396c1c2c/lib/python3.9/site-packages/thunder/readers.py:131\u001B[0m, in \u001B[0;36mLocalParallelReader.list\u001B[0;34m(path, ext, start, stop, recursive)\u001B[0m\n\u001B[1;32m    129\u001B[0m files \u001B[38;5;241m=\u001B[39m listflat(path, ext) \u001B[38;5;28;01mif\u001B[39;00m \u001B[38;5;129;01mnot\u001B[39;00m recursive \u001B[38;5;28;01melse\u001B[39;00m listrecursive(path, ext)\n\u001B[1;32m    130\u001B[0m \u001B[38;5;28;01mif\u001B[39;00m \u001B[38;5;28mlen\u001B[39m(files) \u001B[38;5;241m<\u001B[39m \u001B[38;5;241m1\u001B[39m:\n\u001B[0;32m--> 131\u001B[0m     \u001B[38;5;28;01mraise\u001B[39;00m \u001B[38;5;167;01mFileNotFoundError\u001B[39;00m(\u001B[38;5;124m'\u001B[39m\u001B[38;5;124mCannot find files of type \u001B[39m\u001B[38;5;124m\"\u001B[39m\u001B[38;5;132;01m%s\u001B[39;00m\u001B[38;5;124m\"\u001B[39m\u001B[38;5;124m in \u001B[39m\u001B[38;5;132;01m%s\u001B[39;00m\u001B[38;5;124m'\u001B[39m\n\u001B[1;32m    132\u001B[0m                             \u001B[38;5;241m%\u001B[39m (ext \u001B[38;5;28;01mif\u001B[39;00m ext \u001B[38;5;28;01melse\u001B[39;00m \u001B[38;5;124m'\u001B[39m\u001B[38;5;124m*\u001B[39m\u001B[38;5;124m'\u001B[39m, path))\n\u001B[1;32m    133\u001B[0m files \u001B[38;5;241m=\u001B[39m select(files, start, stop)\n\u001B[1;32m    135\u001B[0m \u001B[38;5;28;01mreturn\u001B[39;00m files\n\n\u001B[0;31mFileNotFoundError\u001B[0m: Cannot find files of type \"tif\" in ./fish_dataset/time001.tif/",
       "errorSummary": "<span class='ansi-red-fg'>FileNotFoundError</span>: Cannot find files of type \"tif\" in ./fish_dataset/time001.tif/",
       "errorTraceType": "ansi",
       "metadata": {},
       "type": "ipynbError"
      }
     },
     "output_type": "display_data"
    }
   ],
   "source": [
    "# coding=utf-8\n",
    "\n",
    "# Copyright 2015 and onwards Sanford Ryza, Uri Laserson, Sean Owen and Joshua Wills\n",
    "#\n",
    "# See LICENSE file for further information.\n",
    "\n",
    "# this code assumes you are working from an interactive Thunder (PySpark) shell\n",
    "\n",
    "import matplotlib.pyplot as plt\n",
    "from matplotlib.colors import ListedColormap\n",
    "import seaborn as sns\n",
    "\n",
    "import thunder as td\n",
    "\n",
    "##################\n",
    "# data exploration/Trabalho de Computação Paralela/fish_dataset/tif-stack/time001.tif\n",
    "##################\n",
    "\n",
    "# load some zebrafish brain data\n",
    "data = td.images.fromtif('./fish_dataset/', engine=sc)\n",
    "\n",
    "# explore the resulting object\n",
    "print(data)\n",
    "print(data.values)\n",
    "print(data.values.first())\n",
    "print(data.values._rdd)\n",
    "print(data.values._rdd.first())\n",
    "print(data.shape)\n",
    "print(data.count())\n",
    "\n",
    "# plot the raw data\n",
    "img = data.first()\n",
    "plt.imshow(img[:, : ,0], interpolation='nearest', aspect='equal', cmap='gray')\n",
    "\n",
    "# plot subsampled data\n",
    "subsampled = data.subsample((5, 5, 1))\n",
    "plt.imshow(subsampled.first()[1][:, : ,0], interpolation='nearest', aspect='equal', cmap='gray')\n",
    "print(subsampled.shape)\n",
    "\n",
    "# reshuffle data to series representation\n",
    "series = data.toseries()\n",
    "print(series.shape)\n",
    "print(series.index)\n",
    "print(series.count())\n",
    "print(series.values._rdd.takeSample(False, 1)[0])\n",
    "print(series.max().values)\n",
    "\n",
    "# distributed computation of stats\n",
    "stddev = series.map(lambda s: s.std())\n",
    "print(stddev.values._rdd.take(3))\n",
    "print(stddev.shape)\n",
    "\n",
    "# collecting data locally and repacking it\n",
    "repacked = stddev.toarray()\n",
    "plt.imshow(repacked[:,:,0], interpolation='nearest', cmap='gray', aspect='equal')\n",
    "print(type(repacked))\n",
    "print(repacked.shape)\n",
    "\n",
    "# plot some of the time series themselves\n",
    "plt.plot(series.center().sample(50).toarray().T)\n",
    "\n",
    "# distributed computatino of custom statistics\n",
    "series.map(lambda x: x.argmin())\n"
   ]
  },
  {
   "cell_type": "code",
   "execution_count": 0,
   "metadata": {
    "application/vnd.databricks.v1+cell": {
     "cellMetadata": {
      "byteLimit": 2048000,
      "rowLimit": 10000
     },
     "inputWidgets": {},
     "nuid": "3b697c13-ee9b-4a79-851e-8a08f4592452",
     "showTitle": false,
     "title": ""
    }
   },
   "outputs": [
    {
     "output_type": "display_data",
     "data": {
      "text/plain": [
       "\u001B[0;31m---------------------------------------------------------------------------\u001B[0m\n",
       "\u001B[0;31mValueError\u001B[0m                                Traceback (most recent call last)\n",
       "File \u001B[0;32m<command-2953301531535851>:12\u001B[0m\n",
       "\u001B[1;32m      9\u001B[0m \u001B[38;5;28;01mimport\u001B[39;00m \u001B[38;5;21;01mnumpy\u001B[39;00m \u001B[38;5;28;01mas\u001B[39;00m \u001B[38;5;21;01mnp\u001B[39;00m\n",
       "\u001B[1;32m     10\u001B[0m \u001B[38;5;28;01mfrom\u001B[39;00m \u001B[38;5;21;01mpyspark\u001B[39;00m\u001B[38;5;21;01m.\u001B[39;00m\u001B[38;5;21;01mmllib\u001B[39;00m\u001B[38;5;21;01m.\u001B[39;00m\u001B[38;5;21;01mclustering\u001B[39;00m \u001B[38;5;28;01mimport\u001B[39;00m KMeans\n",
       "\u001B[0;32m---> 12\u001B[0m images \u001B[38;5;241m=\u001B[39m td\u001B[38;5;241m.\u001B[39mimages\u001B[38;5;241m.\u001B[39mfrombinary(\n",
       "\u001B[1;32m     13\u001B[0m     \u001B[38;5;124m'\u001B[39m\u001B[38;5;124m/fish-long\u001B[39m\u001B[38;5;124m'\u001B[39m, order\u001B[38;5;241m=\u001B[39m\u001B[38;5;124m'\u001B[39m\u001B[38;5;124mF\u001B[39m\u001B[38;5;124m'\u001B[39m, engine\u001B[38;5;241m=\u001B[39msc,  conf\u001B[38;5;241m=\u001B[39m\u001B[38;5;124m'\u001B[39m\u001B[38;5;124mconf.json\u001B[39m\u001B[38;5;124m'\u001B[39m)\n",
       "\u001B[1;32m     14\u001B[0m series \u001B[38;5;241m=\u001B[39m images\u001B[38;5;241m.\u001B[39mtoseries()\n",
       "\u001B[1;32m     16\u001B[0m normalized \u001B[38;5;241m=\u001B[39m series\u001B[38;5;241m.\u001B[39mnormalize(method\u001B[38;5;241m=\u001B[39m\u001B[38;5;124m'\u001B[39m\u001B[38;5;124mmean\u001B[39m\u001B[38;5;124m'\u001B[39m)\n",
       "\n",
       "File \u001B[0;32m/local_disk0/.ephemeral_nfs/envs/pythonEnv-2991b55e-26e7-4e01-8829-8957396c1c2c/lib/python3.9/site-packages/thunder/images/readers.py:279\u001B[0m, in \u001B[0;36mfrombinary\u001B[0;34m(path, shape, dtype, ext, start, stop, recursive, nplanes, npartitions, labels, conf, order, engine, credentials)\u001B[0m\n",
       "\u001B[1;32m    276\u001B[0m     shape \u001B[38;5;241m=\u001B[39m params[\u001B[38;5;124m'\u001B[39m\u001B[38;5;124mshape\u001B[39m\u001B[38;5;124m'\u001B[39m]\n",
       "\u001B[1;32m    278\u001B[0m \u001B[38;5;28;01mif\u001B[39;00m \u001B[38;5;129;01mnot\u001B[39;00m shape:\n",
       "\u001B[0;32m--> 279\u001B[0m     \u001B[38;5;28;01mraise\u001B[39;00m \u001B[38;5;167;01mValueError\u001B[39;00m(\u001B[38;5;124m'\u001B[39m\u001B[38;5;124mImage shape must be specified as argument or in a conf.json file\u001B[39m\u001B[38;5;124m'\u001B[39m)\n",
       "\u001B[1;32m    281\u001B[0m \u001B[38;5;28;01mif\u001B[39;00m \u001B[38;5;129;01mnot\u001B[39;00m dtype:\n",
       "\u001B[1;32m    282\u001B[0m     dtype \u001B[38;5;241m=\u001B[39m \u001B[38;5;124m'\u001B[39m\u001B[38;5;124mint16\u001B[39m\u001B[38;5;124m'\u001B[39m\n",
       "\n",
       "\u001B[0;31mValueError\u001B[0m: Image shape must be specified as argument or in a conf.json file"
      ]
     },
     "metadata": {
      "application/vnd.databricks.v1+output": {
       "arguments": {},
       "data": "\u001B[0;31m---------------------------------------------------------------------------\u001B[0m\n\u001B[0;31mValueError\u001B[0m                                Traceback (most recent call last)\nFile \u001B[0;32m<command-2953301531535851>:12\u001B[0m\n\u001B[1;32m      9\u001B[0m \u001B[38;5;28;01mimport\u001B[39;00m \u001B[38;5;21;01mnumpy\u001B[39;00m \u001B[38;5;28;01mas\u001B[39;00m \u001B[38;5;21;01mnp\u001B[39;00m\n\u001B[1;32m     10\u001B[0m \u001B[38;5;28;01mfrom\u001B[39;00m \u001B[38;5;21;01mpyspark\u001B[39;00m\u001B[38;5;21;01m.\u001B[39;00m\u001B[38;5;21;01mmllib\u001B[39;00m\u001B[38;5;21;01m.\u001B[39;00m\u001B[38;5;21;01mclustering\u001B[39;00m \u001B[38;5;28;01mimport\u001B[39;00m KMeans\n\u001B[0;32m---> 12\u001B[0m images \u001B[38;5;241m=\u001B[39m td\u001B[38;5;241m.\u001B[39mimages\u001B[38;5;241m.\u001B[39mfrombinary(\n\u001B[1;32m     13\u001B[0m     \u001B[38;5;124m'\u001B[39m\u001B[38;5;124m/fish-long\u001B[39m\u001B[38;5;124m'\u001B[39m, order\u001B[38;5;241m=\u001B[39m\u001B[38;5;124m'\u001B[39m\u001B[38;5;124mF\u001B[39m\u001B[38;5;124m'\u001B[39m, engine\u001B[38;5;241m=\u001B[39msc,  conf\u001B[38;5;241m=\u001B[39m\u001B[38;5;124m'\u001B[39m\u001B[38;5;124mconf.json\u001B[39m\u001B[38;5;124m'\u001B[39m)\n\u001B[1;32m     14\u001B[0m series \u001B[38;5;241m=\u001B[39m images\u001B[38;5;241m.\u001B[39mtoseries()\n\u001B[1;32m     16\u001B[0m normalized \u001B[38;5;241m=\u001B[39m series\u001B[38;5;241m.\u001B[39mnormalize(method\u001B[38;5;241m=\u001B[39m\u001B[38;5;124m'\u001B[39m\u001B[38;5;124mmean\u001B[39m\u001B[38;5;124m'\u001B[39m)\n\nFile \u001B[0;32m/local_disk0/.ephemeral_nfs/envs/pythonEnv-2991b55e-26e7-4e01-8829-8957396c1c2c/lib/python3.9/site-packages/thunder/images/readers.py:279\u001B[0m, in \u001B[0;36mfrombinary\u001B[0;34m(path, shape, dtype, ext, start, stop, recursive, nplanes, npartitions, labels, conf, order, engine, credentials)\u001B[0m\n\u001B[1;32m    276\u001B[0m     shape \u001B[38;5;241m=\u001B[39m params[\u001B[38;5;124m'\u001B[39m\u001B[38;5;124mshape\u001B[39m\u001B[38;5;124m'\u001B[39m]\n\u001B[1;32m    278\u001B[0m \u001B[38;5;28;01mif\u001B[39;00m \u001B[38;5;129;01mnot\u001B[39;00m shape:\n\u001B[0;32m--> 279\u001B[0m     \u001B[38;5;28;01mraise\u001B[39;00m \u001B[38;5;167;01mValueError\u001B[39;00m(\u001B[38;5;124m'\u001B[39m\u001B[38;5;124mImage shape must be specified as argument or in a conf.json file\u001B[39m\u001B[38;5;124m'\u001B[39m)\n\u001B[1;32m    281\u001B[0m \u001B[38;5;28;01mif\u001B[39;00m \u001B[38;5;129;01mnot\u001B[39;00m dtype:\n\u001B[1;32m    282\u001B[0m     dtype \u001B[38;5;241m=\u001B[39m \u001B[38;5;124m'\u001B[39m\u001B[38;5;124mint16\u001B[39m\u001B[38;5;124m'\u001B[39m\n\n\u001B[0;31mValueError\u001B[0m: Image shape must be specified as argument or in a conf.json file",
       "errorSummary": "<span class='ansi-red-fg'>ValueError</span>: Image shape must be specified as argument or in a conf.json file",
       "errorTraceType": "ansi",
       "metadata": {},
       "type": "ipynbError"
      }
     },
     "output_type": "display_data"
    }
   ],
   "source": [
    "\n",
    "\n",
    "###############################\n",
    "# Clustering fish brain regions\n",
    "###############################\n",
    "import matplotlib.pyplot as plt\n",
    "from matplotlib.colors import ListedColormap\n",
    "import seaborn as sns\n",
    "\n",
    "import thunder as td\n",
    "import numpy as np\n",
    "from pyspark.mllib.clustering import KMeans\n",
    "\n",
    "images = td.images.frombinary(\n",
    "    '/fish-long', order='F', engine=sc,  conf='conf.json')\n",
    "series = images.toseries()\n",
    "\n",
    "normalized = series.normalize(method='mean')\n",
    "stddevs = (normalized\n",
    "    .map(lambda s: s.std())\n",
    "    .sample(1000))\n",
    "plt.hist(stddevs.values, bins=20)\n",
    "plt.plot(\n",
    "    normalized\n",
    "        .filter(lambda s: s.std() >= 0.1)\n",
    "        .sample(50)\n",
    "        .values.T)\n",
    "\n",
    "# perform k-means on the normalized series\n",
    "ks = [5, 10, 15, 20, 30, 50, 100, 200]\n",
    "models = []\n",
    "for k in ks:\n",
    "    models.append(KMeans.train(normalized.values._rdd.values(), k))\n",
    "\n",
    "# define a couple functions to score the clustering quality\n",
    "def model_error_1(model):\n",
    "    def series_error(series):\n",
    "        cluster_id = model.predict(series)\n",
    "        center = model.centers[cluster_id]\n",
    "        diff = center - series\n",
    "        return diff.dot(diff) ** 0.5\n",
    "\n",
    "    return (normalized\n",
    "        .map(series_error)\n",
    "        .toarray()\n",
    "        .sum())\n",
    "\n",
    "def model_error_2(model):\n",
    "    return model.computeCost(normalized.values._rdd.values())\n",
    "\n",
    "# compute the error metrics for the different resulting clusterings\n",
    "errors_1 = np.asarray(map(model_error_1, models))\n",
    "errors_2 = np.asarray(map(model_error_2, models))\n",
    "plt.plot(\n",
    "    ks, errors_1 / errors_1.sum(), 'k-o',\n",
    "    ks, errors_2 / errors_2.sum(), 'b:v')\n",
    "\n",
    "# plot the best performing model\n",
    "model20 = models[3]\n",
    "plt.plot(np.asarray(model20.centers).T)\n",
    "\n",
    "# finally, plot each brain region according to its characteristic behavior\n",
    "from matplotlib.colors import ListedColormap\n",
    "cmap_cat = ListedColormap(sns.color_palette(\"hls\", 10), name='from_list')\n",
    "by_cluster = normalized.map(lambda s: model20.predict(s)).toarray()\n",
    "plt.imshow(by_cluster[:, :, 0], interpolation='nearest',\n",
    "    aspect='equal', cmap='gray')"
   ]
  },
  {
   "cell_type": "code",
   "execution_count": 0,
   "metadata": {
    "application/vnd.databricks.v1+cell": {
     "cellMetadata": {},
     "inputWidgets": {},
     "nuid": "d4743dac-728d-4ba9-831d-34de6122981d",
     "showTitle": false,
     "title": ""
    }
   },
   "outputs": [],
   "source": []
  },
  {
   "cell_type": "code",
   "execution_count": 0,
   "metadata": {
    "application/vnd.databricks.v1+cell": {
     "cellMetadata": {
      "byteLimit": 2048000,
      "rowLimit": 10000
     },
     "inputWidgets": {},
     "nuid": "224e07f0-1c90-440c-a4d0-505d9b316052",
     "showTitle": false,
     "title": ""
    }
   },
   "outputs": [
    {
     "output_type": "display_data",
     "data": {
      "text/plain": [
       "\u001B[0;31m---------------------------------------------------------------------------\u001B[0m\n",
       "\u001B[0;31mModuleNotFoundError\u001B[0m                       Traceback (most recent call last)\n",
       "File \u001B[0;32m<command-261437857634653>:1\u001B[0m\n",
       "\u001B[0;32m----> 1\u001B[0m \u001B[38;5;28;01mimport\u001B[39;00m \u001B[38;5;21;01mthunder\u001B[39;00m\n",
       "\n",
       "File \u001B[0;32m/databricks/python_shell/dbruntime/PythonPackageImportsInstrumentation/__init__.py:171\u001B[0m, in \u001B[0;36m_create_import_patch.<locals>.import_patch\u001B[0;34m(name, globals, locals, fromlist, level)\u001B[0m\n",
       "\u001B[1;32m    166\u001B[0m thread_local\u001B[38;5;241m.\u001B[39m_nest_level \u001B[38;5;241m+\u001B[39m\u001B[38;5;241m=\u001B[39m \u001B[38;5;241m1\u001B[39m\n",
       "\u001B[1;32m    168\u001B[0m \u001B[38;5;28;01mtry\u001B[39;00m:\n",
       "\u001B[1;32m    169\u001B[0m     \u001B[38;5;66;03m# Import the desired module. If you’re seeing this while debugging a failed import,\u001B[39;00m\n",
       "\u001B[1;32m    170\u001B[0m     \u001B[38;5;66;03m# look at preceding stack frames for relevant error information.\u001B[39;00m\n",
       "\u001B[0;32m--> 171\u001B[0m     original_result \u001B[38;5;241m=\u001B[39m \u001B[43mpython_builtin_import\u001B[49m\u001B[43m(\u001B[49m\u001B[43mname\u001B[49m\u001B[43m,\u001B[49m\u001B[43m \u001B[49m\u001B[38;5;28;43mglobals\u001B[39;49m\u001B[43m,\u001B[49m\u001B[43m \u001B[49m\u001B[38;5;28;43mlocals\u001B[39;49m\u001B[43m,\u001B[49m\u001B[43m \u001B[49m\u001B[43mfromlist\u001B[49m\u001B[43m,\u001B[49m\u001B[43m \u001B[49m\u001B[43mlevel\u001B[49m\u001B[43m)\u001B[49m\n",
       "\u001B[1;32m    173\u001B[0m     is_root_import \u001B[38;5;241m=\u001B[39m thread_local\u001B[38;5;241m.\u001B[39m_nest_level \u001B[38;5;241m==\u001B[39m \u001B[38;5;241m1\u001B[39m\n",
       "\u001B[1;32m    174\u001B[0m     \u001B[38;5;66;03m# `level` represents the number of leading dots in a relative import statement.\u001B[39;00m\n",
       "\u001B[1;32m    175\u001B[0m     \u001B[38;5;66;03m# If it's zero, then this is an absolute import.\u001B[39;00m\n",
       "\n",
       "\u001B[0;31mModuleNotFoundError\u001B[0m: No module named 'thunder'"
      ]
     },
     "metadata": {
      "application/vnd.databricks.v1+output": {
       "arguments": {},
       "data": "\u001B[0;31m---------------------------------------------------------------------------\u001B[0m\n\u001B[0;31mModuleNotFoundError\u001B[0m                       Traceback (most recent call last)\nFile \u001B[0;32m<command-261437857634653>:1\u001B[0m\n\u001B[0;32m----> 1\u001B[0m \u001B[38;5;28;01mimport\u001B[39;00m \u001B[38;5;21;01mthunder\u001B[39;00m\n\nFile \u001B[0;32m/databricks/python_shell/dbruntime/PythonPackageImportsInstrumentation/__init__.py:171\u001B[0m, in \u001B[0;36m_create_import_patch.<locals>.import_patch\u001B[0;34m(name, globals, locals, fromlist, level)\u001B[0m\n\u001B[1;32m    166\u001B[0m thread_local\u001B[38;5;241m.\u001B[39m_nest_level \u001B[38;5;241m+\u001B[39m\u001B[38;5;241m=\u001B[39m \u001B[38;5;241m1\u001B[39m\n\u001B[1;32m    168\u001B[0m \u001B[38;5;28;01mtry\u001B[39;00m:\n\u001B[1;32m    169\u001B[0m     \u001B[38;5;66;03m# Import the desired module. If you’re seeing this while debugging a failed import,\u001B[39;00m\n\u001B[1;32m    170\u001B[0m     \u001B[38;5;66;03m# look at preceding stack frames for relevant error information.\u001B[39;00m\n\u001B[0;32m--> 171\u001B[0m     original_result \u001B[38;5;241m=\u001B[39m \u001B[43mpython_builtin_import\u001B[49m\u001B[43m(\u001B[49m\u001B[43mname\u001B[49m\u001B[43m,\u001B[49m\u001B[43m \u001B[49m\u001B[38;5;28;43mglobals\u001B[39;49m\u001B[43m,\u001B[49m\u001B[43m \u001B[49m\u001B[38;5;28;43mlocals\u001B[39;49m\u001B[43m,\u001B[49m\u001B[43m \u001B[49m\u001B[43mfromlist\u001B[49m\u001B[43m,\u001B[49m\u001B[43m \u001B[49m\u001B[43mlevel\u001B[49m\u001B[43m)\u001B[49m\n\u001B[1;32m    173\u001B[0m     is_root_import \u001B[38;5;241m=\u001B[39m thread_local\u001B[38;5;241m.\u001B[39m_nest_level \u001B[38;5;241m==\u001B[39m \u001B[38;5;241m1\u001B[39m\n\u001B[1;32m    174\u001B[0m     \u001B[38;5;66;03m# `level` represents the number of leading dots in a relative import statement.\u001B[39;00m\n\u001B[1;32m    175\u001B[0m     \u001B[38;5;66;03m# If it's zero, then this is an absolute import.\u001B[39;00m\n\n\u001B[0;31mModuleNotFoundError\u001B[0m: No module named 'thunder'",
       "errorSummary": "<span class='ansi-red-fg'>ModuleNotFoundError</span>: No module named 'thunder'",
       "errorTraceType": "ansi",
       "metadata": {},
       "type": "ipynbError"
      }
     },
     "output_type": "display_data"
    }
   ],
   "source": [
    "import thunder"
   ]
  },
  {
   "cell_type": "code",
   "execution_count": 0,
   "metadata": {
    "application/vnd.databricks.v1+cell": {
     "cellMetadata": {},
     "inputWidgets": {},
     "nuid": "d4df9fc4-6581-42b4-9e36-a96e682cf4ad",
     "showTitle": false,
     "title": ""
    }
   },
   "outputs": [],
   "source": []
  }
 ],
 "metadata": {
  "application/vnd.databricks.v1+notebook": {
   "dashboards": [],
   "environmentMetadata": null,
   "language": "python",
   "notebookMetadata": {
    "pythonIndentUnit": 4
   },
   "notebookName": "fish",
   "widgets": {}
  }
 },
 "nbformat": 4,
 "nbformat_minor": 0
}
